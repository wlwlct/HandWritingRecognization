{
 "cells": [
  {
   "cell_type": "code",
   "execution_count": null,
   "metadata": {},
   "outputs": [],
   "source": [
    "#load package\n",
    "import matplotlib.pyplot as plt\n",
    "import cv2\n",
    "import pandas as pd\n",
    "import numpy as np\n",
    "import seaborn as sns\n",
    "\n",
    "from skimage import measure\n",
    "from skimage.segmentation import clear_border\n",
    "from skimage.morphology import skeletonize, binary_closing"
   ]
  },
  {
   "cell_type": "code",
   "execution_count": null,
   "metadata": {},
   "outputs": [],
   "source": [
    "# A Framework to Access Handwritten Information within Large Digitized Paper Collections"
   ]
  },
  {
   "cell_type": "code",
   "execution_count": null,
   "metadata": {},
   "outputs": [],
   "source": [
    "# load as a grayscale image, best used on scanned image\n",
    "img_url = '/Users/livi/Git/Hand Writing Recognization/Example/images/SCN_0007-2.jpg'\n",
    "img = cv2.imread(img_url,0)\n",
    "plt.imshow(img)"
   ]
  },
  {
   "cell_type": "code",
   "execution_count": null,
   "metadata": {},
   "outputs": [],
   "source": [
    "# binarized (background 0, line/text 1)\n",
    "img = 1-img/255\n",
    "plt.hist(img.reshape(-1,1)); plt.title('Intensity Distribution');plt.show()\n",
    "#img = img[img>0.1]\n",
    "#img = img[20:img.shape[0]-40,20:img.shape[1]-20]\n",
    "\n",
    "#plt.figure(figsize=(16,8))\n",
    "#plt.subplot(1,2,1)\n",
    "#sns.heatmap(img); \n",
    "\n",
    "# morphological thinning process (ref 20) for character recognition. (likely to miss hlines)\n",
    "#plt.subplot(1,2,2)\n",
    "#img_thin = skeletonize(img)\n",
    "#sns.heatmap(img_thin); \n",
    "#plt.show()\n",
    "\n",
    "#Hough transformation\n",
    "# rotate image by detecting long horizontal lines with Hough transform.\n",
    "## histogram of angles of these lines, based on the angle to rotate\n",
    "# after rotation, verticle and horizontal pixel histogram gves the location.\n",
    "# we build one template, and fnd lines that match the template\n",
    "#(dot product, or dynamic time warping). Horizontal/vertical can run separately."
   ]
  },
  {
   "cell_type": "code",
   "execution_count": null,
   "metadata": {},
   "outputs": [],
   "source": [
    "horizontal_sum = img.sum(axis=1)\n",
    "vertical_sum = img.sum(axis=0)\n",
    "\n",
    "# find loc read more than Q3 intensity.\n",
    "h_diff = np.diff(horizontal_sum)\n",
    "v_diff = np.diff(vertical_sum)\n",
    "ax0_criteria, ax1_criteria = [np.mean(i)+1.5*np.std(i) for i in [h_diff, v_diff]]\n",
    "#np.quantile(horizontal_sum,0.95), np.quantile(vertical_sum,0.95)\n",
    "\n",
    "# image shape\n",
    "print(img.shape)\n",
    "\n",
    "plt.figure(figsize=(10,4))\n",
    "# horizontal sum\n",
    "plt.subplot(1,2,1)#; plt.plot(horizontal_sum); plt.hlines(ax0_criteria, 0, 300, 'r')\n",
    "plt.plot(h_diff)\n",
    "plt.axhline(np.mean(h_diff)+np.std(h_diff),c='r')\n",
    "plt.axhline(np.mean(h_diff)-np.std(h_diff),c='r')\n",
    "plt.axhline(ax0_criteria,c='g')\n",
    "plt.title('Diff Horizontal Sum')\n",
    "# vertical sumss\n",
    "plt.subplot(1,2,2)#;plt.plot(vertical_sum); #plt.hlines(ax1_criteria, 0, 300, 'r')\n",
    "plt.plot(v_diff)\n",
    "plt.axhline(np.mean(v_diff)+np.std(v_diff),c='r')\n",
    "plt.axhline(np.mean(v_diff)-np.std(v_diff),c='r')\n",
    "plt.axhline(ax1_criteria,c='g')\n",
    "plt.title('Vertical Sum')\n",
    "plt.show()"
   ]
  },
  {
   "cell_type": "code",
   "execution_count": null,
   "metadata": {},
   "outputs": [],
   "source": [
    "# draw cells\n",
    "frame= np.zeros((img.shape[0]-1, img.shape[1]-1))\n",
    "frame[h_diff>ax0_criteria,:]=1\n",
    "frame[:,v_diff>ax1_criteria]=1\n",
    "frame[h_diff<-1*ax0_criteria,:]=1\n",
    "frame[:,v_diff<-1*ax1_criteria]=1\n",
    "\n",
    "# merge lines that are closed to each other\n",
    "frame_close = skeletonize(binary_closing(frame))\n",
    "plt.figure(figsize=(16,8))\n",
    "plt.subplot(1,2,1);sns.heatmap(1-frame)\n",
    "plt.subplot(1,2,2);sns.heatmap(1-frame_close)\n",
    "plt.show()\n",
    "\n",
    "frame = frame_close"
   ]
  },
  {
   "cell_type": "code",
   "execution_count": null,
   "metadata": {},
   "outputs": [],
   "source": [
    "frame = 255*(1-frame.astype(int))"
   ]
  },
  {
   "cell_type": "markdown",
   "metadata": {},
   "source": [
    "## Filter img_0 based on Frame"
   ]
  },
  {
   "cell_type": "code",
   "execution_count": null,
   "metadata": {},
   "outputs": [],
   "source": [
    "img_0 = 255-cv2.imread(img_url,0)\n",
    "plt.figure(figsize=(16,8))\n",
    "plt.subplot(1,2,1);sns.heatmap(img_0)\n",
    "plt.subplot(1,2,2);sns.heatmap(clear_border(frame))\n",
    "plt.show()"
   ]
  },
  {
   "cell_type": "code",
   "execution_count": null,
   "metadata": {},
   "outputs": [],
   "source": [
    "frame = clear_border(frame)\n",
    "frame_label = measure.label(frame)\n",
    "smaller_regionNum=[]\n",
    "area = {}\n",
    "img_int = []\n",
    "\n",
    "regions = measure.regionprops(frame_label)\n",
    "for i, region in enumerate(regions):\n",
    "\n",
    "    x1, y1, x2, y2= region.bbox\n",
    "    img_int.append(np.sum(img_0[x1:x2, y1:y2]))\n",
    "    \n",
    "    area[i] = region.area\n",
    "    if region.area<100:\n",
    "        smaller_regionNum.append(region.label)\n",
    "        #print(region.label,': ', region.area)\n",
    "\n",
    "# reason for area < 100\n",
    "print('# of Regions Smaller than 100: ', len(smaller_regionNum))\n",
    "#smaller100= [i in smaller_regionNum for i in np.unique(frame_label)]"
   ]
  },
  {
   "cell_type": "code",
   "execution_count": null,
   "metadata": {},
   "outputs": [],
   "source": [
    "sns.heatmap(frame_label)\n",
    "plt.show()"
   ]
  },
  {
   "cell_type": "code",
   "execution_count": null,
   "metadata": {},
   "outputs": [],
   "source": [
    "area_list = list(area.values())\n",
    "CoefVar = np.std(area_list)/np.mean(area_list)\n",
    "plt.hist(area.values())\n",
    "plt.show()\n",
    "CoefVar"
   ]
  },
  {
   "cell_type": "code",
   "execution_count": null,
   "metadata": {},
   "outputs": [],
   "source": [
    "idx = [i for i,k in enumerate(area_list) if k>20000]\n",
    "img_int = []\n",
    "for i in idx:\n",
    "    x1, y1, x2, y2= regions[i].bbox\n",
    "    plt.subplot(121);plt.imshow(img_0[x1:x2, y1:y2]); plt.title(np.sum(img_0[x1:x2, y1:y2]))\n",
    "    plt.subplot(122);plt.imshow(np.multiply(img_0[1:, 1:], frame_label==i+1))\n",
    "    plt.show()\n",
    "\n"
   ]
  },
  {
   "cell_type": "code",
   "execution_count": null,
   "metadata": {},
   "outputs": [],
   "source": [
    "_ = plt.hist(img_int, range=(0, 10000))\n",
    "plt.show()"
   ]
  },
  {
   "cell_type": "code",
   "execution_count": null,
   "metadata": {},
   "outputs": [],
   "source": []
  }
 ],
 "metadata": {
  "interpreter": {
   "hash": "40d3a090f54c6569ab1632332b64b2c03c39dcf918b08424e98f38b5ae0af88f"
  },
  "kernelspec": {
   "display_name": "Python 3.8.8 ('base')",
   "language": "python",
   "name": "python3"
  },
  "language_info": {
   "codemirror_mode": {
    "name": "ipython",
    "version": 3
   },
   "file_extension": ".py",
   "mimetype": "text/x-python",
   "name": "python",
   "nbconvert_exporter": "python",
   "pygments_lexer": "ipython3",
   "version": "3.8.8"
  },
  "orig_nbformat": 4
 },
 "nbformat": 4,
 "nbformat_minor": 2
}
